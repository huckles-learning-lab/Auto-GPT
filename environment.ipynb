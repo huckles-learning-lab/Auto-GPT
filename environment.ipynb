{
 "cells": [
  {
   "cell_type": "markdown",
   "metadata": {},
   "source": [
    "# Schritt-für-Schritt-Anleitung zur Einrichtung der Python-Entwicklungsumgebung\n",
    "In dieser Anleitung zeige ich dir, wie du eine Python-Entwicklungsumgebung für deine AI-Anwendung einrichten kannst, unter Verwendung von Anaconda und pipenv. Diese Methode gewährleistet eine saubere Trennung der Abhängigkeiten und ermöglicht eine effiziente Entwicklung."
   ]
  },
  {
   "cell_type": "code",
   "execution_count": null,
   "metadata": {
    "vscode": {
     "languageId": "plaintext"
    }
   },
   "outputs": [],
   "source": [
    "# Stelle sicher das du dich im richtigen Arbeitsverzeichnis \"AI-Anwendung\" befindest.\n",
    "\n",
    "!pwd\n",
    "\n",
    "!cd </path/to/AI-Anwendung>           # Füge hier </path/to/AI-Anwendung> deinen Path ein."
   ]
  },
  {
   "cell_type": "markdown",
   "metadata": {},
   "source": [
    "## 1. Anaconda-Umgebung einrichten\n",
    "Installiere Anaconda, falls du es noch nicht hast: https://www.anaconda.com/download"
   ]
  },
  {
   "cell_type": "code",
   "execution_count": null,
   "metadata": {
    "vscode": {
     "languageId": "plaintext"
    }
   },
   "outputs": [],
   "source": [
    "# Öffne die Anaconda-Navigator oder verwende die Befehlszeile, um eine neue Anaconda-Umgebung zu erstellen:\n",
    "\n",
    "!conda create -n ai python=3.9"
   ]
  },
  {
   "cell_type": "code",
   "execution_count": null,
   "metadata": {
    "vscode": {
     "languageId": "plaintext"
    }
   },
   "outputs": [],
   "source": [
    "# Aktiviere die erstellte Umgebung:\n",
    "\n",
    "!conda activate ai"
   ]
  },
  {
   "cell_type": "code",
   "execution_count": null,
   "metadata": {
    "vscode": {
     "languageId": "plaintext"
    }
   },
   "outputs": [],
   "source": [
    "# Installiere pipenv, falls noch nicht geschehen:\n",
    "\n",
    "!pip install pipenv"
   ]
  },
  {
   "cell_type": "markdown",
   "metadata": {},
   "source": [
    "## 2. Pipenv-Umgebung für Rasa-Bot einrichten"
   ]
  },
  {
   "cell_type": "code",
   "execution_count": null,
   "metadata": {
    "vscode": {
     "languageId": "plaintext"
    }
   },
   "outputs": [],
   "source": [
    "# Kopiere deinen fertigen Rasa-Bot in das Arbeitsverzeichnis \"AI-Anwendung\"\n",
    "\n",
    "!cp /path/to/your/rasa-bot ./Rasa-Bot"
   ]
  },
  {
   "cell_type": "code",
   "execution_count": null,
   "metadata": {
    "vscode": {
     "languageId": "plaintext"
    }
   },
   "outputs": [],
   "source": [
    "# Wechsle zum Verzeichnis deines Rasa-Bot-Projekts und erstelle eine Pipenv-Umgebung:\n",
    "\n",
    "!cd ./Rasa-Bot\n",
    "\n",
    "!pipenv install"
   ]
  },
  {
   "cell_type": "code",
   "execution_count": null,
   "metadata": {
    "vscode": {
     "languageId": "plaintext"
    }
   },
   "outputs": [],
   "source": [
    "# Aktiviere die Pipenv-Umgebung:\n",
    "\n",
    "!pipenv shell"
   ]
  },
  {
   "cell_type": "code",
   "execution_count": null,
   "metadata": {
    "vscode": {
     "languageId": "plaintext"
    }
   },
   "outputs": [],
   "source": [
    "\n",
    "# Installiere die Pakete aus der requirements.txt-Datei für den Rasa-Bot:\n",
    "\n",
    "!pipenv install -r requirements_Rasa-Bot.txt"
   ]
  },
  {
   "cell_type": "markdown",
   "metadata": {},
   "source": [
    "## 3.1 Pipenv-Umgebung für Auto-GPT einrichten"
   ]
  },
  {
   "cell_type": "code",
   "execution_count": null,
   "metadata": {
    "vscode": {
     "languageId": "plaintext"
    }
   },
   "outputs": [],
   "source": [
    "# Gehe zurück zur Anaconda-Umgebung:\n",
    "\n",
    "!conda deactivate"
   ]
  },
  {
   "cell_type": "code",
   "execution_count": null,
   "metadata": {
    "vscode": {
     "languageId": "plaintext"
    }
   },
   "outputs": [],
   "source": [
    "# Wechsle zum Verzeichnis der langchain-Anwendung und erstelle eine Pipenv-Umgebung:\n",
    "\n",
    "!cd ..\n",
    "!cd ./Auto-GPT\n",
    "\n",
    "!pipenv install"
   ]
  },
  {
   "cell_type": "code",
   "execution_count": null,
   "metadata": {
    "vscode": {
     "languageId": "plaintext"
    }
   },
   "outputs": [],
   "source": [
    "# Aktiviere die Pipenv-Umgebung:\n",
    "\n",
    "!pipenv shell"
   ]
  },
  {
   "cell_type": "code",
   "execution_count": null,
   "metadata": {
    "vscode": {
     "languageId": "plaintext"
    }
   },
   "outputs": [],
   "source": [
    "# Installiere die Pakete aus der requirements.txt-Datei für langchain:\n",
    "\n",
    "!pipenv install -r requirements_Auto-GPT.txt"
   ]
  },
  {
   "cell_type": "code",
   "execution_count": null,
   "metadata": {
    "vscode": {
     "languageId": "plaintext"
    }
   },
   "outputs": [],
   "source": [
    "# Deactiviere die Pipenv-Umgebung:\n",
    "\n",
    "!exit"
   ]
  },
  {
   "cell_type": "markdown",
   "metadata": {},
   "source": [
    "## 3.2 Pipenv-Umgebung für CLI-Co-Pilot einrichten"
   ]
  },
  {
   "cell_type": "code",
   "execution_count": null,
   "metadata": {
    "vscode": {
     "languageId": "plaintext"
    }
   },
   "outputs": [],
   "source": [
    "# Gehe zurück zur Anaconda-Umgebung:\n",
    "\n",
    "!conda deactivate"
   ]
  },
  {
   "cell_type": "code",
   "execution_count": null,
   "metadata": {
    "vscode": {
     "languageId": "plaintext"
    }
   },
   "outputs": [],
   "source": [
    "# Wechsle zum Verzeichnis der langchain-Anwendung und erstelle eine Pipenv-Umgebung:\n",
    "\n",
    "!cd ./CLI-Co-Pilot\n",
    "\n",
    "!pipenv install"
   ]
  },
  {
   "cell_type": "code",
   "execution_count": null,
   "metadata": {
    "vscode": {
     "languageId": "plaintext"
    }
   },
   "outputs": [],
   "source": [
    "# Aktiviere die Pipenv-Umgebung:\n",
    "\n",
    "!pipenv shell"
   ]
  },
  {
   "cell_type": "code",
   "execution_count": null,
   "metadata": {
    "vscode": {
     "languageId": "plaintext"
    }
   },
   "outputs": [],
   "source": [
    "# Installiere die Pakete aus der requirements.txt-Datei für langchain:\n",
    "\n",
    "!pipenv install -r requirements_CLI-Co-Pilot.txt"
   ]
  },
  {
   "cell_type": "code",
   "execution_count": null,
   "metadata": {
    "vscode": {
     "languageId": "plaintext"
    }
   },
   "outputs": [],
   "source": [
    "# Deactiviere die Pipenv-Umgebung:\n",
    "\n",
    "!exit"
   ]
  },
  {
   "cell_type": "markdown",
   "metadata": {},
   "source": [
    "## 3.3 Pipenv-Umgebung für Documentation-Helper einrichten"
   ]
  },
  {
   "cell_type": "code",
   "execution_count": null,
   "metadata": {
    "vscode": {
     "languageId": "plaintext"
    }
   },
   "outputs": [],
   "source": [
    "# Gehe zurück zur Anaconda-Umgebung:\n",
    "\n",
    "!conda deactivate"
   ]
  },
  {
   "cell_type": "code",
   "execution_count": null,
   "metadata": {
    "vscode": {
     "languageId": "plaintext"
    }
   },
   "outputs": [],
   "source": [
    "# Wechsle zum Verzeichnis der langchain-Anwendung und erstelle eine Pipenv-Umgebung:\n",
    "\n",
    "!cd ./Documentation-Helper\n",
    "\n",
    "!pipenv install"
   ]
  },
  {
   "cell_type": "code",
   "execution_count": null,
   "metadata": {
    "vscode": {
     "languageId": "plaintext"
    }
   },
   "outputs": [],
   "source": [
    "# Aktiviere die Pipenv-Umgebung:\n",
    "\n",
    "!pipenv shell"
   ]
  },
  {
   "cell_type": "code",
   "execution_count": null,
   "metadata": {
    "vscode": {
     "languageId": "plaintext"
    }
   },
   "outputs": [],
   "source": [
    "# Installiere die Pakete aus der requirements.txt-Datei für langchain:\n",
    "\n",
    "!pipenv install -r requirements_Documentation-Helper.txt"
   ]
  },
  {
   "cell_type": "code",
   "execution_count": null,
   "metadata": {
    "vscode": {
     "languageId": "plaintext"
    }
   },
   "outputs": [],
   "source": [
    "# Deactiviere die Pipenv-Umgebung:\n",
    "\n",
    "!exit"
   ]
  },
  {
   "cell_type": "markdown",
   "metadata": {},
   "source": [
    "## 3.4 Pipenv-Umgebung für GPT-Engeneer einrichten"
   ]
  },
  {
   "cell_type": "code",
   "execution_count": null,
   "metadata": {
    "vscode": {
     "languageId": "plaintext"
    }
   },
   "outputs": [],
   "source": [
    "# Gehe zurück zur Anaconda-Umgebung:\n",
    "\n",
    "!conda deactivate"
   ]
  },
  {
   "cell_type": "code",
   "execution_count": null,
   "metadata": {
    "vscode": {
     "languageId": "plaintext"
    }
   },
   "outputs": [],
   "source": [
    "# Wechsle zum Verzeichnis der langchain-Anwendung und erstelle eine Pipenv-Umgebung:\n",
    "\n",
    "!cd ./GPT-Engeneer\n",
    "\n",
    "!pipenv install"
   ]
  },
  {
   "cell_type": "code",
   "execution_count": null,
   "metadata": {
    "vscode": {
     "languageId": "plaintext"
    }
   },
   "outputs": [],
   "source": [
    "# Aktiviere die Pipenv-Umgebung:\n",
    "\n",
    "!pipenv shell"
   ]
  },
  {
   "cell_type": "code",
   "execution_count": null,
   "metadata": {
    "vscode": {
     "languageId": "plaintext"
    }
   },
   "outputs": [],
   "source": [
    "# Installiere die Pakete aus der requirements.txt-Datei für langchain:\n",
    "\n",
    "!pipenv install -r requirements_GPT-Engeneer.txt"
   ]
  },
  {
   "cell_type": "code",
   "execution_count": null,
   "metadata": {
    "vscode": {
     "languageId": "plaintext"
    }
   },
   "outputs": [],
   "source": [
    "# Deactiviere die Pipenv-Umgebung:\n",
    "\n",
    "!exit"
   ]
  },
  {
   "cell_type": "markdown",
   "metadata": {},
   "source": [
    "## 4. Integration der Anwendungen in den Rasa-Bot\n",
    "Stelle sicher, dass du dich in der Pipenv-Umgebung für den Rasa-Bot befindest."
   ]
  },
  {
   "cell_type": "code",
   "execution_count": null,
   "metadata": {
    "vscode": {
     "languageId": "plaintext"
    }
   },
   "outputs": [],
   "source": [
    "!pwd\n",
    "\n",
    "!cd ./Rasa-Bot"
   ]
  },
  {
   "cell_type": "code",
   "execution_count": null,
   "metadata": {
    "vscode": {
     "languageId": "plaintext"
    }
   },
   "outputs": [],
   "source": [
    "!pipenv shell"
   ]
  },
  {
   "cell_type": "code",
   "execution_count": null,
   "metadata": {
    "vscode": {
     "languageId": "plaintext"
    }
   },
   "outputs": [],
   "source": [
    "# Installiere die Pakete aus den requirements.txt-Dateien der vier Anwendungen:\n",
    "\n",
    "!pipenv install -r requirements_Auto-GPT.txt\n",
    "!pipenv install -r requirements_CLI-Co-Pilot.txt\n",
    "!pipenv install -r requirements_Documentation-Helper.txt\n",
    "!pipenv install -r requirements_GPT-Engeneer.txt"
   ]
  },
  {
   "cell_type": "markdown",
   "metadata": {},
   "source": [
    "## 5. Überprüfen und Testen\n",
    "Stelle sicher, dass alle Umgebungen aktiviert sind und du dich in der richtigen Pipenv-Umgebung für den Rasa-Bot befindest.\n",
    "\n",
    "Führe Tests und Überprüfungen in den jeweiligen Umgebungen durch, um sicherzustellen, dass die Anwendungen ordnungsgemäß funktionieren.\n",
    "\n",
    "Durch die Kombination von Anaconda und pipenv erhältst du eine saubere, isolierte Entwicklungsumgebung, die die Abhängigkeiten effizient verwaltet. Denke daran, die Umgebungen zu aktivieren, wenn du mit den jeweiligen Anwendungen arbeitest."
   ]
  }
 ],
 "metadata": {
  "language_info": {
   "name": "python"
  },
  "orig_nbformat": 4
 },
 "nbformat": 4,
 "nbformat_minor": 2
}
